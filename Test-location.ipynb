{
 "cells": [
  {
   "cell_type": "code",
   "execution_count": 1,
   "metadata": {},
   "outputs": [],
   "source": [
    "import nltk\n",
    "from nltk import word_tokenize\n",
    "from nltk.corpus import stopwords\n"
   ]
  },
  {
   "cell_type": "code",
   "execution_count": 2,
   "metadata": {},
   "outputs": [],
   "source": [
    " Xstring = \" The flags are flying high in Melbourne, Australia! \"\n",
    "\n",
    "tokenized_doc  = word_tokenize(Xstring)\n",
    "tagged_sentences = nltk.pos_tag(tokenized_doc )\n",
    "NE= nltk.ne_chunk(tagged_sentences )\n",
    "# NE.draw()"
   ]
  },
  {
   "cell_type": "code",
   "execution_count": 3,
   "metadata": {},
   "outputs": [
    {
     "name": "stdout",
     "output_type": "stream",
     "text": [
      "[('Melbourne', 'GPE'), ('Australia', 'GPE')]\n"
     ]
    }
   ],
   "source": [
    "named_entities = []\n",
    "for tagged_tree in NE:\n",
    "    if hasattr(tagged_tree, 'label'):\n",
    "        entity_name = ' '.join(c[0] for c in tagged_tree.leaves()) #\n",
    "        entity_type = tagged_tree.label() # get NE category\n",
    "        named_entities.append((entity_name, entity_type))\n",
    "\n",
    "print(named_entities)  #all entities will be printed,check at your end once"
   ]
  },
  {
   "cell_type": "code",
   "execution_count": 4,
   "metadata": {},
   "outputs": [
    {
     "name": "stdout",
     "output_type": "stream",
     "text": [
      "('Melbourne', 'GPE')\n",
      "('Australia', 'GPE')\n"
     ]
    }
   ],
   "source": [
    "for tag in named_entities:\n",
    "      if tag[1]=='GPE':   #Specify any tag which is required\n",
    "        print(tag)"
   ]
  },
  {
   "cell_type": "code",
   "execution_count": 5,
   "metadata": {},
   "outputs": [],
   "source": []
  },
  {
   "cell_type": "code",
   "execution_count": 3,
   "metadata": {},
   "outputs": [
    {
     "name": "stdout",
     "output_type": "stream",
     "text": [
      "Lygon Street, Melbourne Innovation District, Melbourne, Carlton, Melbourne, City of Melbourne, Victoria, 3000, Australia\n",
      "(-37.8069298, 144.965933)\n"
     ]
    }
   ],
   "source": [
    "from geopy.geocoders import Nominatim\n",
    "geolocator = Nominatim(user_agent=\"mygeocoder\")\n",
    "location = geolocator.geocode(\"570 lygon street\")\n",
    "print(location.address)\n",
    "print((location.latitude, location.longitude))\n"
   ]
  },
  {
   "cell_type": "code",
   "execution_count": null,
   "metadata": {},
   "outputs": [],
   "source": []
  },
  {
   "cell_type": "code",
   "execution_count": null,
   "metadata": {},
   "outputs": [],
   "source": [
    "import pandas as pd\n",
    "from geopy.geocoders import Nominatim\n",
    "from geopy.extra.rate_limiter import RateLimiter\n",
    "\n",
    "df = pd.DataFrame({'loc_name': ['Melbourne', 'Australia']})\n",
    "geolocator = Nominatim(user_agent=\"mygeocoder\")\n",
    "geocode = RateLimiter(geolocator.geocode, min_delay_seconds=1)\n",
    "df['location_coor'] = df['loc_name'].apply(geocode)\n",
    "df['loc_point'] = df['location_coor'].apply(lambda loc: tuple(loc.point) if loc else None)\n"
   ]
  }
 ],
 "metadata": {
  "kernelspec": {
   "display_name": "Python 3",
   "language": "python",
   "name": "python3"
  },
  "language_info": {
   "codemirror_mode": {
    "name": "ipython",
    "version": 3
   },
   "file_extension": ".py",
   "mimetype": "text/x-python",
   "name": "python",
   "nbconvert_exporter": "python",
   "pygments_lexer": "ipython3",
   "version": "3.6.9"
  }
 },
 "nbformat": 4,
 "nbformat_minor": 1
}
